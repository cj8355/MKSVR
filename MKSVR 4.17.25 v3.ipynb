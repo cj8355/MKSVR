{
 "cells": [
  {
   "cell_type": "code",
   "execution_count": 10,
   "id": "88a391c6-9ae4-4cbf-8aa8-a21d1bc5cb91",
   "metadata": {},
   "outputs": [],
   "source": [
    "import numpy as np\n",
    "import pandas as pd\n",
    "import matplotlib.pyplot as plt\n",
    "from sklearn.svm import SVR\n",
    "from sklearn.metrics.pairwise import rbf_kernel"
   ]
  },
  {
   "cell_type": "code",
   "execution_count": 11,
   "id": "cf5a4f24-c538-4a03-95a5-03e4ca65d7c1",
   "metadata": {},
   "outputs": [],
   "source": [
    "# Load Data\n",
    "def load_spy_csv(path: str, date_col: str = 'Date') -> pd.DataFrame:\n",
    "    df = pd.read_csv(path, parse_dates=[date_col])\n",
    "    if 'Volume' in df.columns:\n",
    "        df['Volume'] = df['Volume'].replace(',', '', regex=True).astype(float)\n",
    "    df.sort_values(date_col, inplace=True)\n",
    "    df.reset_index(drop=True, inplace=True)\n",
    "    return df"
   ]
  },
  {
   "cell_type": "code",
   "execution_count": null,
   "id": "eb2a139c-021d-4bbd-9323-15823702cb18",
   "metadata": {},
   "outputs": [],
   "source": [
    "# Functions to be used later\n",
    "# Calculate EMA\n",
    "def calculate_ema(prices, span):\n",
    "    return pd.Series(prices).ewm(span=span, adjust=False).mean()\n",
    "\n",
    "# Calculate RDP\n",
    "def calculate_rdp(prices, n):\n",
    "    prices = pd.Series(prices)\n",
    "    return (prices - prices.shift(n)) / prices.shift(n) * 100\n",
    "\n",
    "#Calculate RMSE\n",
    "def calculate_rmse(y_true, y_pred):\n",
    "    return np.sqrt(np.mean((np.asarray(y_true) - np.asarray(y_pred)) ** 2))\n",
    "\n",
    "# Limit outliers\n",
    "def cap_outliers(series, k: float = 2, *, drop: bool = False):\n",
    "    s = pd.Series(series).astype(float)\n",
    "    lo, hi = s.mean() - k * s.std(), s.mean() + k * s.std()\n",
    "    mask = (s < lo) | (s > hi)\n",
    "    return s[~mask] if drop else s.clip(lo, hi)\n",
    "\n",
    "# Scale to range [-0.9, 0.9]\n",
    "def scale_to_range(series, low=-0.9, high=0.9):\n",
    "    s = pd.Series(series).astype(float)\n",
    "    mn, mx = s.min(), s.max()\n",
    "    if mx == mn:\n",
    "        return pd.Series(np.zeros_like(s), index=s.index)\n",
    "    return low + (s - mn) * (high - low) / (mx - mn)"
   ]
  },
  {
   "cell_type": "code",
   "execution_count": 13,
   "id": "900751f8-3127-4f48-bbc6-aa1267b27b2d",
   "metadata": {},
   "outputs": [],
   "source": [
    "# Input and Output for the feature space\n",
    "# Y\n",
    "def calculate_targets(prices):\n",
    "    ema3 = calculate_ema(prices, 3)\n",
    "    y_raw = (ema3 - ema3.shift(5)) / ema3.shift(5) * 100\n",
    "    y_clean = cap_outliers(y_raw)\n",
    "    return scale_to_range(y_clean).dropna()\n",
    "\n",
    "# X\n",
    "def construct_input_features(prices):\n",
    "    ema_hat15 = prices - calculate_ema(prices, 15)\n",
    "    feats = pd.DataFrame({\n",
    "        'x1': ema_hat15.shift(5),\n",
    "        'x2': cap_outliers(calculate_rdp(prices, 5)).shift(5),\n",
    "        'x3': cap_outliers(calculate_rdp(prices, 10)).shift(5),\n",
    "        'x4': cap_outliers(calculate_rdp(prices, 15)).shift(5),\n",
    "        'x5': cap_outliers(calculate_rdp(prices, 20)).shift(5)\n",
    "    })\n",
    "    # Scale each column to [‑0.9,0.9]\n",
    "    for col in feats.columns:\n",
    "        feats[col] = scale_to_range(feats[col])\n",
    "    return feats.dropna()"
   ]
  },
  {
   "cell_type": "code",
   "execution_count": 14,
   "id": "4bc5fe94-5be3-474d-8878-d06cfda9b06c",
   "metadata": {},
   "outputs": [],
   "source": [
    "# Split data into DS using walk-forward\n",
    "# Train = 1,000, Validation/Testing = 200, walk forward 100 days betweene each DS\n",
    "def create_walkforward_sets(prices: pd.Series,\n",
    "                            train_len=1000, val_len=200, test_len=200,\n",
    "                            step=100, num_sets=4):\n",
    "    sets = []\n",
    "    for i in range(num_sets):\n",
    "        s = i * step\n",
    "        sets.append({\n",
    "            'name': f'DS-{i+1}',\n",
    "            'train': prices.iloc[s: s + train_len],\n",
    "            'val'  : prices.iloc[s + train_len: s + train_len + val_len],\n",
    "            'test' : prices.iloc[s + train_len + val_len: s + train_len + val_len + test_len]\n",
    "        })\n",
    "    return sets"
   ]
  },
  {
   "cell_type": "code",
   "execution_count": null,
   "id": "793c5ee5-586b-481f-a343-9c3ef1c543b1",
   "metadata": {},
   "outputs": [],
   "source": [
    "# Histograms to show change in distribution between closing price and RDP+5\n",
    "def plot_histograms(prices, bins=35):\n",
    "    plt.figure(); plt.hist(prices.dropna(), bins=bins, density=True)\n",
    "    plt.title('Closing Prices'); plt.ylabel('Rel. Freq')\n",
    "\n",
    "    rdp = calculate_targets(prices) \n",
    "    plt.figure(); plt.hist(rdp, bins=bins, density=True)\n",
    "    plt.title('Scaled RDP +5 (%)'); plt.ylabel('Rel. Freq'); plt.show()"
   ]
  },
  {
   "cell_type": "code",
   "execution_count": 16,
   "id": "d61187e9-ff7c-4f9b-8217-08e28bb46f88",
   "metadata": {},
   "outputs": [],
   "source": [
    "# MKSVR\n",
    "# Gammas for RBF\n",
    "GAMMAS_37 = (\n",
    "    *np.arange(0.01, 0.10, 0.01),\n",
    "    *np.arange(0.1, 1.0, 0.1),\n",
    "    *np.arange(1, 11, 1),\n",
    "    20, 30, 40, 50, 60, 70, 80, 90, 100\n",
    ")\n",
    "\n",
    "# Combine kernel matrix with weights\n",
    "def _combine(Ks, w):\n",
    "    return sum(wi * Ki for wi, Ki in zip(w, Ks))\n",
    "\n",
    "# Setup 2 stage MKSVR\n",
    "def train_mksvr(X_train, y_train, X_val=None, y_val=None, gammas=None, C=1.0, epsilon=0.1, max_iter=10, lr=0.1, tol=1e-3, verbose=False):\n",
    "    if gammas is None:\n",
    "        gammas = GAMMAS_37\n",
    "    gammas = tuple(gammas)\n",
    "\n",
    "    # Compute Kernel matrices\n",
    "    Ktr = [rbf_kernel(X_train, X_train, gamma=g) for g in gammas]\n",
    "    Kva = [rbf_kernel(X_val,   X_train, gamma=g) for g in gammas] if X_val is not None else None\n",
    "\n",
    "    # 2 stages\n",
    "    mu = np.full(len(gammas), 1/len(gammas))\n",
    "    for it in range(max_iter):\n",
    "        # Stage 1\n",
    "        svr = SVR(kernel='precomputed', C=C, epsilon=epsilon)\n",
    "        svr.fit(_combine(Ktr, mu), y_train)\n",
    "\n",
    "        # Stage 2\n",
    "        alpha = np.zeros_like(y_train); alpha[svr.support_] = svr.dual_coef_.ravel()\n",
    "        grad = np.array([-0.5 * alpha @ K @ alpha for K in Ktr])\n",
    "\n",
    "        mu_new = np.clip(mu - lr * grad, 0, None)\n",
    "        mu_new /= mu_new.sum()\n",
    "\n",
    "        if verbose and X_val is not None:\n",
    "            rmse = calculate_rmse(y_val, svr.predict(_combine(Kva, mu_new)))\n",
    "            print(f'Iter {it:02d}  RMSE={rmse:.4f}')\n",
    "\n",
    "        # Determine if mu converges\n",
    "        if np.linalg.norm(mu_new - mu) < tol:\n",
    "            mu = mu_new; break\n",
    "        mu = mu_new\n",
    "\n",
    "    # Final results\n",
    "    svr_final = SVR(kernel='precomputed', C=C, epsilon=epsilon)\n",
    "    svr_final.fit(_combine(Ktr, mu), y_train)\n",
    "    return svr_final, mu, gammas, Ktr\n",
    "\n",
    "# Predict with new kernal matrix/mu\n",
    "def mksvr_predict(model, K_train_list, X_train, X_new, mu, gammas):\n",
    "    K_new = _combine([rbf_kernel(X_new, X_train, gamma=g) for g in gammas], mu)\n",
    "    return model.predict(K_new)\n"
   ]
  },
  {
   "cell_type": "code",
   "execution_count": 17,
   "id": "b91b5828-93d5-4334-961c-dbf19789be4a",
   "metadata": {},
   "outputs": [],
   "source": [
    "# Run the train/val/test for 4 DS using the MKSVR model\n",
    "def evaluate_walkforward(prices: pd.Series, verbose=True):\n",
    "    rows = []\n",
    "    for ds in create_walkforward_sets(prices):\n",
    "        Xtr = construct_input_features(ds['train']); ytr = calculate_targets(ds['train']).loc[Xtr.index]\n",
    "        Xva = construct_input_features(ds['val']);   yva = calculate_targets(ds['val']).loc[Xva.index]\n",
    "        Xte = construct_input_features(ds['test']);  yte = calculate_targets(ds['test']).loc[Xte.index]\n",
    "\n",
    "        model, mu, gammas, Ktr_list = train_mksvr(Xtr.values, ytr.values, Xva.values, yva.values, verbose=verbose)\n",
    "        preds = mksvr_predict(model, Ktr_list, Xtr.values, Xte.values, mu, gammas)\n",
    "        rmse  = calculate_rmse(yte.values, preds)\n",
    "        rows.append({'Dataset': ds['name'], 'RMSE': rmse})\n",
    "        if verbose:\n",
    "            print(f\"{ds['name']}  RMSE = {rmse:.4f}\")\n",
    "\n",
    "    return pd.DataFrame(rows).set_index('Dataset')"
   ]
  },
  {
   "cell_type": "code",
   "execution_count": 19,
   "id": "b2a7ab39-ef75-49c0-a4f1-9b22cfd968a6",
   "metadata": {},
   "outputs": [
    {
     "data": {
      "image/png": "[encoded data removed]",
      "text/plain": [
       "<Figure size 640x480 with 1 Axes>"
      ]
     },
     "metadata": {},
     "output_type": "display_data"
    },
    {
     "data": {
      "image/png": "[encoded data removed]",
      "text/plain": [
       "<Figure size 640x480 with 1 Axes>"
      ]
     },
     "metadata": {},
     "output_type": "display_data"
    },
    {
     "name": "stdout",
     "output_type": "stream",
     "text": [
      "Iter 00  RMSE=0.4559\n",
      "Iter 01  RMSE=0.4498\n",
      "Iter 02  RMSE=0.4327\n",
      "Iter 03  RMSE=0.4384\n",
      "Iter 04  RMSE=0.4349\n",
      "Iter 05  RMSE=0.4365\n",
      "Iter 06  RMSE=0.4357\n",
      "Iter 07  RMSE=0.4361\n",
      "DS-1  RMSE = 0.4280\n",
      "Iter 00  RMSE=0.4111\n",
      "Iter 01  RMSE=0.3605\n",
      "Iter 02  RMSE=0.3588\n",
      "Iter 03  RMSE=0.3560\n",
      "Iter 04  RMSE=0.3567\n",
      "Iter 05  RMSE=0.3563\n",
      "Iter 06  RMSE=0.3565\n",
      "Iter 07  RMSE=0.3563\n",
      "DS-2  RMSE = 0.3224\n",
      "Iter 00  RMSE=0.4927\n",
      "Iter 01  RMSE=0.4172\n",
      "Iter 02  RMSE=0.4228\n",
      "Iter 03  RMSE=0.4189\n",
      "Iter 04  RMSE=0.4202\n",
      "Iter 05  RMSE=0.4196\n",
      "Iter 06  RMSE=0.4198\n",
      "DS-3  RMSE = 0.4342\n",
      "Iter 00  RMSE=0.3674\n",
      "Iter 01  RMSE=0.3183\n",
      "Iter 02  RMSE=0.3085\n",
      "Iter 03  RMSE=0.3088\n",
      "Iter 04  RMSE=0.3078\n",
      "Iter 05  RMSE=0.3081\n",
      "Iter 06  RMSE=0.3079\n",
      "Iter 07  RMSE=0.3080\n",
      "DS-4  RMSE = 0.4662\n",
      "Summary RMSEs (DS‑I – DS‑IV)\n",
      "          RMSE\n",
      "Dataset       \n",
      "DS-1    0.4280\n",
      "DS-2    0.3224\n",
      "DS-3    0.4342\n",
      "DS-4    0.4662\n"
     ]
    }
   ],
   "source": [
    "# Run                                                                               \n",
    "if __name__ == \"__main__\":                                                                                       \n",
    "    df = load_spy_csv('SPY Closing Prices 1.1.15-12.31.24.csv')                \n",
    "    close = df['Close']                                                                                              \n",
    "    plot_histograms(close, bins=35)                                                                                         \n",
    "    rmse_tbl = evaluate_walkforward(close, verbose=True)                                                                                     \n",
    "    print(\"Summary RMSEs (DS‑I – DS‑IV)\")                                       \n",
    "    print(rmse_tbl.to_string(float_format=lambda x: f\"{x:.4f}\"))               "
   ]
  },
  {
   "cell_type": "code",
   "execution_count": null,
   "id": "c3787af0-36a0-4a6d-990e-138875143d2f",
   "metadata": {},
   "outputs": [],
   "source": []
  }
 ],
 "metadata": {
  "kernelspec": {
   "display_name": "Python 3 (ipykernel)",
   "language": "python",
   "name": "python3"
  },
  "language_info": {
   "codemirror_mode": {
    "name": "ipython",
    "version": 3
   },
   "file_extension": ".py",
   "mimetype": "text/x-python",
   "name": "python",
   "nbconvert_exporter": "python",
   "pygments_lexer": "ipython3",
   "version": "3.13.3"
  }
 },
 "nbformat": 4,
 "nbformat_minor": 5
}
